{
 "cells": [
  {
   "cell_type": "code",
   "execution_count": 7,
   "id": "initial_id",
   "metadata": {
    "collapsed": true,
    "ExecuteTime": {
     "end_time": "2023-10-01T07:43:41.145108700Z",
     "start_time": "2023-10-01T07:43:41.140851Z"
    }
   },
   "outputs": [],
   "source": [
    "from MyLib.MinHeap.MinHeap import MinHeap\n",
    "from MyLib.TreeNode.Node import Node"
   ]
  },
  {
   "cell_type": "code",
   "execution_count": 8,
   "outputs": [],
   "source": [
    "def Gready_BFS(initial_state: Node, goal_state: Node):\n",
    "    frontier = [initial_state]\n",
    "    explored = []\n",
    "\n",
    "    while frontier:\n",
    "        print('frontier', [(node.label, node.value) for node in frontier])\n",
    "        print('explored', [(node.label, node.value) for node in explored])\n",
    "        print()\n",
    "\n",
    "        state = MinHeap.extract_min(frontier)\n",
    "        explored.append(state)\n",
    "\n",
    "        if state.label == goal_state.label:\n",
    "            return explored\n",
    "\n",
    "        for child in state.get_neighbors():\n",
    "            try:\n",
    "                index = frontier.index(child)\n",
    "                # child in frontier, there no exception\n",
    "                MinHeap.decrease_key(frontier, index, child)\n",
    "            except ValueError:  # child not in frontier\n",
    "                if child not in explored:\n",
    "                    MinHeap.insert(frontier, child)\n",
    "    return None"
   ],
   "metadata": {
    "collapsed": false,
    "ExecuteTime": {
     "end_time": "2023-10-01T07:43:41.154227600Z",
     "start_time": "2023-10-01T07:43:41.146077400Z"
    }
   },
   "id": "c91fbe3045b413e3"
  },
  {
   "cell_type": "code",
   "execution_count": 9,
   "outputs": [
    {
     "name": "stdout",
     "output_type": "stream",
     "text": [
      "frontier [('A', 6)]\n",
      "explored []\n",
      "\n",
      "frontier [('B', 3), ('C', 4), ('D', 5)]\n",
      "explored [('A', 6)]\n",
      "\n",
      "frontier [('F', 1), ('E', 3), ('C', 4), ('D', 5)]\n",
      "explored [('A', 6), ('B', 3)]\n",
      "\n",
      "frontier [('L', 0), ('K', 2), ('C', 4), ('D', 5), ('E', 3), ('M', 4)]\n",
      "explored [('A', 6), ('B', 3), ('F', 1)]\n",
      "\n",
      "frontier [('K', 2), ('M', 4), ('C', 4), ('D', 5), ('E', 3)]\n",
      "explored [('A', 6), ('B', 3), ('F', 1), ('L', 0)]\n",
      "\n",
      "frontier [('E', 3), ('M', 4), ('C', 4), ('D', 5)]\n",
      "explored [('A', 6), ('B', 3), ('F', 1), ('L', 0), ('K', 2)]\n",
      "\n",
      "frontier [('M', 4), ('D', 5), ('C', 4)]\n",
      "explored [('A', 6), ('B', 3), ('F', 1), ('L', 0), ('K', 2), ('E', 3)]\n",
      "\n",
      "frontier [('C', 4), ('D', 5)]\n",
      "explored [('A', 6), ('B', 3), ('F', 1), ('L', 0), ('K', 2), ('E', 3), ('M', 4)]\n",
      "\n",
      "frontier [('H', 2), ('G', 6), ('D', 5)]\n",
      "explored [('A', 6), ('B', 3), ('F', 1), ('L', 0), ('K', 2), ('E', 3), ('M', 4), ('C', 4)]\n",
      "\n",
      "frontier [('N', 0), ('O', 4), ('D', 5), ('G', 6)]\n",
      "explored [('A', 6), ('B', 3), ('F', 1), ('L', 0), ('K', 2), ('E', 3), ('M', 4), ('C', 4), ('H', 2)]\n",
      "\n",
      "explored: A \n",
      "explored: A B \n",
      "explored: A B F \n",
      "explored: A B F L \n",
      "explored: A B F L K \n",
      "explored: A B F L K E \n",
      "explored: A B F L K E M \n",
      "explored: A B F L K E M C \n",
      "explored: A B F L K E M C H \n",
      "explored: A B F L K E M C H N \n"
     ]
    }
   ],
   "source": [
    "A = Node('A', 6)\n",
    "B = Node('B', 3)\n",
    "C = Node('C', 4)\n",
    "D = Node('D', 5)\n",
    "E = Node('E', 3)\n",
    "F = Node('F', 1)\n",
    "G = Node('G', 6)\n",
    "H = Node('H', 2)\n",
    "I = Node('I', 5)\n",
    "J = Node('J', 4)\n",
    "K = Node('K', 2)\n",
    "L = Node('L', 0)\n",
    "M = Node('M', 4)\n",
    "N = Node('N', 0)\n",
    "O = Node('O', 4)\n",
    "A.add_children(B, C, D)\n",
    "B.add_children(E, F)\n",
    "C.add_children(G, H)\n",
    "D.add_children(I, J)\n",
    "F.add_children(K, L, M)\n",
    "H.add_children(N, O)\n",
    "\n",
    "result = Gready_BFS(A, N)\n",
    "if result:\n",
    "    s = 'explored: '\n",
    "    for i in result:\n",
    "        s += i.label + ' '\n",
    "        print(s)\n",
    "\n",
    "else:\n",
    "    print('404 NOT FOUND')"
   ],
   "metadata": {
    "collapsed": false,
    "ExecuteTime": {
     "end_time": "2023-10-01T07:43:41.169522900Z",
     "start_time": "2023-10-01T07:43:41.159227400Z"
    }
   },
   "id": "ff386f708cb278c3"
  },
  {
   "cell_type": "markdown",
   "source": [],
   "metadata": {
    "collapsed": false
   },
   "id": "bfd1a08633150185"
  }
 ],
 "metadata": {
  "kernelspec": {
   "display_name": "Python 3",
   "language": "python",
   "name": "python3"
  },
  "language_info": {
   "codemirror_mode": {
    "name": "ipython",
    "version": 2
   },
   "file_extension": ".py",
   "mimetype": "text/x-python",
   "name": "python",
   "nbconvert_exporter": "python",
   "pygments_lexer": "ipython2",
   "version": "2.7.6"
  }
 },
 "nbformat": 4,
 "nbformat_minor": 5
}
