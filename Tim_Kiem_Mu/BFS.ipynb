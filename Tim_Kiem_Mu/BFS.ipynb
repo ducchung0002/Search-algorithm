{
 "cells": [
  {
   "cell_type": "markdown",
   "source": [
    "Tạo class Node"
   ],
   "metadata": {
    "collapsed": false
   },
   "id": "5f5560dceff872d3"
  },
  {
   "cell_type": "code",
   "execution_count": 6,
   "outputs": [],
   "source": [
    "class Node:\n",
    "    def __init__(self, name):\n",
    "        self.name = name\n",
    "        self.children = []\n",
    "\n",
    "    def add_children(self, children):\n",
    "        self.children += children"
   ],
   "metadata": {
    "collapsed": false,
    "ExecuteTime": {
     "end_time": "2023-09-15T16:21:41.848364800Z",
     "start_time": "2023-09-15T16:21:41.830956Z"
    }
   },
   "id": "e51219fc693b76de"
  },
  {
   "cell_type": "markdown",
   "source": [
    "Khai báo các Node"
   ],
   "metadata": {
    "collapsed": false
   },
   "id": "542130e890bea34d"
  },
  {
   "cell_type": "code",
   "execution_count": 7,
   "outputs": [],
   "source": [
    "nodeA = Node('A')\n",
    "nodeB = Node('B')\n",
    "nodeC = Node('C')\n",
    "nodeD = Node('D')\n",
    "nodeE = Node('E')\n",
    "nodeF = Node('F')\n",
    "nodeG = Node('G')\n",
    "nodeH = Node('H')\n",
    "nodeI = Node('I')\n",
    "nodeJ = Node('J')\n",
    "nodeK = Node('K')\n",
    "nodeL = Node('L')\n",
    "nodeM = Node('M')\n",
    "nodeN = Node('N')\n",
    "nodeO = Node('O')"
   ],
   "metadata": {
    "collapsed": false,
    "ExecuteTime": {
     "end_time": "2023-09-15T16:21:41.871214800Z",
     "start_time": "2023-09-15T16:21:41.836447900Z"
    }
   },
   "id": "92f969a6925723af"
  },
  {
   "cell_type": "markdown",
   "source": [
    "Thêm các node neighbor"
   ],
   "metadata": {
    "collapsed": false
   },
   "id": "33aa1bb46648fca5"
  },
  {
   "cell_type": "code",
   "execution_count": 8,
   "outputs": [],
   "source": [
    "nodeA.add_children([nodeB, nodeC])\n",
    "nodeB.add_children([nodeD, nodeE])\n",
    "nodeC.add_children([nodeF, nodeG])\n",
    "nodeD.add_children([nodeH, nodeI])\n",
    "nodeE.add_children([nodeJ, nodeK])\n",
    "nodeF.add_children([nodeL, nodeM])\n",
    "nodeG.add_children([nodeN, nodeO])"
   ],
   "metadata": {
    "collapsed": false,
    "ExecuteTime": {
     "end_time": "2023-09-15T16:21:41.894558100Z",
     "start_time": "2023-09-15T16:21:41.848364800Z"
    }
   },
   "id": "b5f8d325c5fc6ff0"
  },
  {
   "cell_type": "markdown",
   "source": [
    "Định nghĩa hàm Breadth_First_Search"
   ],
   "metadata": {
    "collapsed": false
   },
   "id": "68a039cd56e81647"
  },
  {
   "cell_type": "code",
   "execution_count": 9,
   "outputs": [],
   "source": [
    "def Breadth_First_Search(initialState, goalState):\n",
    "    frontier = [initialState]\n",
    "    explored = []\n",
    "\n",
    "    while frontier:\n",
    "        state = frontier.pop(0)\n",
    "        explored.append(state)\n",
    "\n",
    "        if state.name == goalState:\n",
    "            return explored\n",
    "\n",
    "        for child in state.children:\n",
    "            if child not in (frontier and explored):\n",
    "                frontier.append(child)\n",
    "\n",
    "    return None"
   ],
   "metadata": {
    "collapsed": false,
    "ExecuteTime": {
     "end_time": "2023-09-15T16:21:41.899558100Z",
     "start_time": "2023-09-15T16:21:41.857551500Z"
    }
   },
   "id": "94aa11a052ac3e54"
  },
  {
   "cell_type": "markdown",
   "source": [
    "Demo"
   ],
   "metadata": {
    "collapsed": false
   },
   "id": "81716a0b144d9104"
  },
  {
   "cell_type": "code",
   "execution_count": 10,
   "outputs": [
    {
     "name": "stdout",
     "output_type": "stream",
     "text": [
      "explored: A \n",
      "explored: A B \n",
      "explored: A B C \n",
      "explored: A B C D \n",
      "explored: A B C D E \n",
      "explored: A B C D E F \n",
      "explored: A B C D E F G \n",
      "explored: A B C D E F G H \n",
      "explored: A B C D E F G H I \n",
      "explored: A B C D E F G H I J \n",
      "explored: A B C D E F G H I J K \n",
      "explored: A B C D E F G H I J K L \n",
      "explored: A B C D E F G H I J K L M \n",
      "explored: A B C D E F G H I J K L M N \n",
      "explored: A B C D E F G H I J K L M N O \n"
     ]
    }
   ],
   "source": [
    "result = Breadth_First_Search(nodeA, 'O')\n",
    "if result:\n",
    "    s = 'explored: '\n",
    "    for i in result:\n",
    "        s += i.name + ' '\n",
    "        print(s);\n",
    "\n",
    "else:\n",
    "    print('404 Not Found!')"
   ],
   "metadata": {
    "collapsed": false,
    "ExecuteTime": {
     "end_time": "2023-09-15T16:21:41.900560Z",
     "start_time": "2023-09-15T16:21:41.871214800Z"
    }
   },
   "id": "d2bfef772b41b9a"
  }
 ],
 "metadata": {
  "kernelspec": {
   "display_name": "Python 3",
   "language": "python",
   "name": "python3"
  },
  "language_info": {
   "codemirror_mode": {
    "name": "ipython",
    "version": 2
   },
   "file_extension": ".py",
   "mimetype": "text/x-python",
   "name": "python",
   "nbconvert_exporter": "python",
   "pygments_lexer": "ipython2",
   "version": "2.7.6"
  }
 },
 "nbformat": 4,
 "nbformat_minor": 5
}
