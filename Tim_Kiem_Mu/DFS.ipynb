{
 "cells": [
  {
   "cell_type": "markdown",
   "source": [
    "Tạo class Node"
   ],
   "metadata": {
    "collapsed": false
   },
   "id": "c2de2a5c95719dd1"
  },
  {
   "cell_type": "code",
   "execution_count": 28,
   "outputs": [],
   "source": [
    "class Node:\n",
    "    def __init__(self, name):\n",
    "        self.name = name\n",
    "        self.children = []\n",
    "\n",
    "    def add_children(self, children):\n",
    "        self.children += children"
   ],
   "metadata": {
    "collapsed": false,
    "ExecuteTime": {
     "end_time": "2023-09-15T16:21:35.180398Z",
     "start_time": "2023-09-15T16:21:35.142909300Z"
    }
   },
   "id": "a442efae783c5103"
  },
  {
   "cell_type": "markdown",
   "source": [
    "Khai báo các Node"
   ],
   "metadata": {
    "collapsed": false
   },
   "id": "42e63a33429291d9"
  },
  {
   "cell_type": "code",
   "execution_count": 29,
   "outputs": [],
   "source": [
    "nodeA = Node('A')\n",
    "nodeB = Node('B')\n",
    "nodeC = Node('C')\n",
    "nodeD = Node('D')\n",
    "nodeE = Node('E')\n",
    "nodeF = Node('F')\n",
    "nodeG = Node('G')\n",
    "nodeH = Node('H')\n",
    "nodeI = Node('I')\n",
    "nodeJ = Node('J')\n",
    "nodeK = Node('K')\n",
    "nodeL = Node('L')\n",
    "nodeM = Node('M')\n",
    "nodeN = Node('N')\n",
    "nodeO = Node('O')"
   ],
   "metadata": {
    "collapsed": false,
    "ExecuteTime": {
     "end_time": "2023-09-15T16:21:35.181399Z",
     "start_time": "2023-09-15T16:21:35.153914700Z"
    }
   },
   "id": "5f8b7f7d5a65ed36"
  },
  {
   "cell_type": "markdown",
   "source": [
    "Thêm các node neighbor"
   ],
   "metadata": {
    "collapsed": false
   },
   "id": "12dbc5ee55fe3b36"
  },
  {
   "cell_type": "code",
   "execution_count": 30,
   "outputs": [],
   "source": [
    "nodeA.add_children([nodeB, nodeC])\n",
    "nodeB.add_children([nodeD, nodeE])\n",
    "nodeC.add_children([nodeF, nodeG])\n",
    "nodeD.add_children([nodeH, nodeI])\n",
    "nodeE.add_children([nodeJ, nodeK])\n",
    "nodeF.add_children([nodeL, nodeM])\n",
    "nodeG.add_children([nodeN, nodeO])"
   ],
   "metadata": {
    "collapsed": false,
    "ExecuteTime": {
     "end_time": "2023-09-15T16:21:35.207880900Z",
     "start_time": "2023-09-15T16:21:35.163925600Z"
    }
   },
   "id": "10c24699dd347b0a"
  },
  {
   "cell_type": "markdown",
   "source": [
    "Định nghĩa hàm Depth_First_Search"
   ],
   "metadata": {
    "collapsed": false
   },
   "id": "1cf1c613b5805929"
  },
  {
   "cell_type": "code",
   "execution_count": 31,
   "outputs": [],
   "source": [
    "def Depth_First_Search(initialState: Node, goalState):\n",
    "    \"\"\"\n",
    "    Perform a depth-first search.\n",
    "\n",
    "    :param Node initialState: The initial state as a Node instance.\n",
    "    :param goalState: The goal state.\n",
    "    \"\"\"\n",
    "    frontier = [initialState]\n",
    "    explored = []\n",
    "    while frontier:\n",
    "        state = frontier.pop()\n",
    "        explored.append(state)\n",
    "\n",
    "        if state.name == goalState:\n",
    "            return explored\n",
    "\n",
    "        for child in state.children:\n",
    "            if child not in (frontier and explored):\n",
    "                frontier.append(child)\n",
    "\n",
    "    return None"
   ],
   "metadata": {
    "collapsed": false,
    "ExecuteTime": {
     "end_time": "2023-09-15T16:21:35.223418800Z",
     "start_time": "2023-09-15T16:21:35.174767400Z"
    }
   },
   "id": "28183288b6b7dd13"
  },
  {
   "cell_type": "markdown",
   "source": [
    "Demo"
   ],
   "metadata": {
    "collapsed": false
   },
   "id": "f5c1bb2e55b49b62"
  },
  {
   "cell_type": "code",
   "execution_count": 32,
   "outputs": [
    {
     "name": "stdout",
     "output_type": "stream",
     "text": [
      "explored: A \n",
      "explored: A C \n",
      "explored: A C G \n",
      "explored: A C G O \n",
      "explored: A C G O N \n",
      "explored: A C G O N F \n",
      "explored: A C G O N F M \n",
      "explored: A C G O N F M L \n",
      "explored: A C G O N F M L B \n",
      "explored: A C G O N F M L B E \n",
      "explored: A C G O N F M L B E K \n",
      "explored: A C G O N F M L B E K J \n",
      "explored: A C G O N F M L B E K J D \n",
      "explored: A C G O N F M L B E K J D I \n",
      "explored: A C G O N F M L B E K J D I H \n"
     ]
    }
   ],
   "source": [
    "result = Depth_First_Search(nodeA, 'H')\n",
    "if result:\n",
    "    s = 'explored: '\n",
    "    for i in result:\n",
    "        s += i.name + ' '\n",
    "        print(s);\n",
    "\n",
    "else:\n",
    "    print('404 Not Found!')"
   ],
   "metadata": {
    "collapsed": false,
    "ExecuteTime": {
     "end_time": "2023-09-15T16:21:35.225416800Z",
     "start_time": "2023-09-15T16:21:35.181399Z"
    }
   },
   "id": "dd538ae3af8a135e"
  }
 ],
 "metadata": {
  "kernelspec": {
   "display_name": "Python 3",
   "language": "python",
   "name": "python3"
  },
  "language_info": {
   "codemirror_mode": {
    "name": "ipython",
    "version": 2
   },
   "file_extension": ".py",
   "mimetype": "text/x-python",
   "name": "python",
   "nbconvert_exporter": "python",
   "pygments_lexer": "ipython2",
   "version": "2.7.6"
  }
 },
 "nbformat": 4,
 "nbformat_minor": 5
}
